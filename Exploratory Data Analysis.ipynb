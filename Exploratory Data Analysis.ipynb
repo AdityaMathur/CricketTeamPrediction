{
 "cells": [
  {
   "cell_type": "code",
   "execution_count": 1,
   "id": "8d89add2",
   "metadata": {
    "scrolled": true
   },
   "outputs": [
    {
     "data": {
      "text/html": [
       "<div>\n",
       "<style scoped>\n",
       "    .dataframe tbody tr th:only-of-type {\n",
       "        vertical-align: middle;\n",
       "    }\n",
       "\n",
       "    .dataframe tbody tr th {\n",
       "        vertical-align: top;\n",
       "    }\n",
       "\n",
       "    .dataframe thead th {\n",
       "        text-align: right;\n",
       "    }\n",
       "</style>\n",
       "<table border=\"1\" class=\"dataframe\">\n",
       "  <thead>\n",
       "    <tr style=\"text-align: right;\">\n",
       "      <th></th>\n",
       "      <th>Unnamed: 0</th>\n",
       "      <th>Matchid</th>\n",
       "      <th>Players_1</th>\n",
       "      <th>BattingOrder_1</th>\n",
       "      <th>inning_bat_1</th>\n",
       "      <th>Bat_Bowler_1</th>\n",
       "      <th>Bat_Dismissal_1</th>\n",
       "      <th>Bat_Runs_1</th>\n",
       "      <th>4s_1</th>\n",
       "      <th>6s_1</th>\n",
       "      <th>...</th>\n",
       "      <th>BattingTeam_22</th>\n",
       "      <th>inning_bowl_22</th>\n",
       "      <th>Over_22</th>\n",
       "      <th>Runs_22</th>\n",
       "      <th>Wicket_22</th>\n",
       "      <th>Maiden_22</th>\n",
       "      <th>extra_22</th>\n",
       "      <th>fowRuns_22</th>\n",
       "      <th>wicketNumber_22</th>\n",
       "      <th>fowOver_22</th>\n",
       "    </tr>\n",
       "  </thead>\n",
       "  <tbody>\n",
       "    <tr>\n",
       "      <th>0</th>\n",
       "      <td>0</td>\n",
       "      <td>1004261</td>\n",
       "      <td>G Malla</td>\n",
       "      <td>1</td>\n",
       "      <td>1.0</td>\n",
       "      <td>T van der Gugten</td>\n",
       "      <td>bowled</td>\n",
       "      <td>11.0</td>\n",
       "      <td>2.0</td>\n",
       "      <td>0.0</td>\n",
       "      <td>...</td>\n",
       "      <td>-</td>\n",
       "      <td>-</td>\n",
       "      <td>-</td>\n",
       "      <td>-</td>\n",
       "      <td>-</td>\n",
       "      <td>-</td>\n",
       "      <td>-</td>\n",
       "      <td>-</td>\n",
       "      <td>-</td>\n",
       "      <td>-</td>\n",
       "    </tr>\n",
       "    <tr>\n",
       "      <th>1</th>\n",
       "      <td>1</td>\n",
       "      <td>1004269</td>\n",
       "      <td>C Carter</td>\n",
       "      <td>1</td>\n",
       "      <td>1.0</td>\n",
       "      <td>LN Oluoch</td>\n",
       "      <td>caught</td>\n",
       "      <td>41.0</td>\n",
       "      <td>4.0</td>\n",
       "      <td>1.0</td>\n",
       "      <td>...</td>\n",
       "      <td>Kenya</td>\n",
       "      <td>1.0</td>\n",
       "      <td>6.1</td>\n",
       "      <td>29.0</td>\n",
       "      <td>3.0</td>\n",
       "      <td>0.0</td>\n",
       "      <td>0.0</td>\n",
       "      <td>-</td>\n",
       "      <td>-</td>\n",
       "      <td>-</td>\n",
       "    </tr>\n",
       "    <tr>\n",
       "      <th>2</th>\n",
       "      <td>2</td>\n",
       "      <td>1004283</td>\n",
       "      <td>KJ Coetzer</td>\n",
       "      <td>1</td>\n",
       "      <td>1.0</td>\n",
       "      <td>Ehsan Khan</td>\n",
       "      <td>lbw</td>\n",
       "      <td>53.0</td>\n",
       "      <td>6.0</td>\n",
       "      <td>2.0</td>\n",
       "      <td>...</td>\n",
       "      <td>-</td>\n",
       "      <td>-</td>\n",
       "      <td>-</td>\n",
       "      <td>-</td>\n",
       "      <td>-</td>\n",
       "      <td>-</td>\n",
       "      <td>-</td>\n",
       "      <td>-</td>\n",
       "      <td>-</td>\n",
       "      <td>-</td>\n",
       "    </tr>\n",
       "    <tr>\n",
       "      <th>3</th>\n",
       "      <td>3</td>\n",
       "      <td>1004285</td>\n",
       "      <td>KJ Coetzer</td>\n",
       "      <td>1</td>\n",
       "      <td>1.0</td>\n",
       "      <td>Tanveer Ahmed</td>\n",
       "      <td>caught and bowled</td>\n",
       "      <td>48.0</td>\n",
       "      <td>8.0</td>\n",
       "      <td>2.0</td>\n",
       "      <td>...</td>\n",
       "      <td>Hong Kong</td>\n",
       "      <td>1.0</td>\n",
       "      <td>10.0</td>\n",
       "      <td>46.0</td>\n",
       "      <td>3.0</td>\n",
       "      <td>1.0</td>\n",
       "      <td>7.0</td>\n",
       "      <td>-</td>\n",
       "      <td>-</td>\n",
       "      <td>-</td>\n",
       "    </tr>\n",
       "    <tr>\n",
       "      <th>4</th>\n",
       "      <td>4</td>\n",
       "      <td>1007649</td>\n",
       "      <td>PJ Moor</td>\n",
       "      <td>1</td>\n",
       "      <td>1.0</td>\n",
       "      <td>BB Sran</td>\n",
       "      <td>lbw</td>\n",
       "      <td>3.0</td>\n",
       "      <td>0.0</td>\n",
       "      <td>0.0</td>\n",
       "      <td>...</td>\n",
       "      <td>-</td>\n",
       "      <td>-</td>\n",
       "      <td>-</td>\n",
       "      <td>-</td>\n",
       "      <td>-</td>\n",
       "      <td>-</td>\n",
       "      <td>-</td>\n",
       "      <td>-</td>\n",
       "      <td>-</td>\n",
       "      <td>-</td>\n",
       "    </tr>\n",
       "  </tbody>\n",
       "</table>\n",
       "<p>5 rows × 442 columns</p>\n",
       "</div>"
      ],
      "text/plain": [
       "   Unnamed: 0  Matchid   Players_1  BattingOrder_1  inning_bat_1  \\\n",
       "0           0  1004261     G Malla               1           1.0   \n",
       "1           1  1004269    C Carter               1           1.0   \n",
       "2           2  1004283  KJ Coetzer               1           1.0   \n",
       "3           3  1004285  KJ Coetzer               1           1.0   \n",
       "4           4  1007649     PJ Moor               1           1.0   \n",
       "\n",
       "       Bat_Bowler_1    Bat_Dismissal_1  Bat_Runs_1  4s_1  6s_1  ...  \\\n",
       "0  T van der Gugten             bowled        11.0   2.0   0.0  ...   \n",
       "1         LN Oluoch             caught        41.0   4.0   1.0  ...   \n",
       "2        Ehsan Khan                lbw        53.0   6.0   2.0  ...   \n",
       "3     Tanveer Ahmed  caught and bowled        48.0   8.0   2.0  ...   \n",
       "4           BB Sran                lbw         3.0   0.0   0.0  ...   \n",
       "\n",
       "   BattingTeam_22  inning_bowl_22 Over_22  Runs_22 Wicket_22 Maiden_22  \\\n",
       "0               -               -       -        -         -         -   \n",
       "1           Kenya             1.0     6.1     29.0       3.0       0.0   \n",
       "2               -               -       -        -         -         -   \n",
       "3       Hong Kong             1.0    10.0     46.0       3.0       1.0   \n",
       "4               -               -       -        -         -         -   \n",
       "\n",
       "  extra_22 fowRuns_22 wicketNumber_22 fowOver_22  \n",
       "0        -          -               -          -  \n",
       "1      0.0          -               -          -  \n",
       "2        -          -               -          -  \n",
       "3      7.0          -               -          -  \n",
       "4        -          -               -          -  \n",
       "\n",
       "[5 rows x 442 columns]"
      ]
     },
     "execution_count": 1,
     "metadata": {},
     "output_type": "execute_result"
    }
   ],
   "source": [
    "import pandas as pd\n",
    "#Importing Pandas to handle database\n",
    "df1 = pd.read_csv (r'Player_performance.csv')\n",
    "#df is the dataframe which is imported\n",
    "df1.head()\n",
    "#.head() shows the first 5 rows of the dataframe to look at the data variables and value types"
   ]
  },
  {
   "cell_type": "code",
   "execution_count": 2,
   "id": "5449ac08",
   "metadata": {},
   "outputs": [
    {
     "data": {
      "text/html": [
       "<div>\n",
       "<style scoped>\n",
       "    .dataframe tbody tr th:only-of-type {\n",
       "        vertical-align: middle;\n",
       "    }\n",
       "\n",
       "    .dataframe tbody tr th {\n",
       "        vertical-align: top;\n",
       "    }\n",
       "\n",
       "    .dataframe thead th {\n",
       "        text-align: right;\n",
       "    }\n",
       "</style>\n",
       "<table border=\"1\" class=\"dataframe\">\n",
       "  <thead>\n",
       "    <tr style=\"text-align: right;\">\n",
       "      <th></th>\n",
       "      <th>Unnamed: 0</th>\n",
       "      <th>Match_id</th>\n",
       "      <th>Team1</th>\n",
       "      <th>Team2</th>\n",
       "      <th>Gender</th>\n",
       "      <th>Date</th>\n",
       "      <th>Season</th>\n",
       "      <th>Series/Competition</th>\n",
       "      <th>Match_number</th>\n",
       "      <th>Venue</th>\n",
       "      <th>...</th>\n",
       "      <th>Umpire1</th>\n",
       "      <th>Umpire2</th>\n",
       "      <th>Reserve_umpire</th>\n",
       "      <th>Tv_umpire</th>\n",
       "      <th>Match_referee</th>\n",
       "      <th>Winner</th>\n",
       "      <th>Winner_runs</th>\n",
       "      <th>Winner_wickets</th>\n",
       "      <th>Method</th>\n",
       "      <th>Outcome</th>\n",
       "    </tr>\n",
       "  </thead>\n",
       "  <tbody>\n",
       "    <tr>\n",
       "      <th>0</th>\n",
       "      <td>0</td>\n",
       "      <td>1000887</td>\n",
       "      <td>Australia</td>\n",
       "      <td>Pakistan</td>\n",
       "      <td>male</td>\n",
       "      <td>2017/01/13</td>\n",
       "      <td>2016/17</td>\n",
       "      <td>Pakistan in Australia ODI Series</td>\n",
       "      <td>1.0</td>\n",
       "      <td>\"Brisbane Cricket Ground</td>\n",
       "      <td>...</td>\n",
       "      <td>MD Martell</td>\n",
       "      <td>C Shamshuddin</td>\n",
       "      <td>SJ Nogajski</td>\n",
       "      <td>CB Gaffaney</td>\n",
       "      <td>JJ Crowe</td>\n",
       "      <td>Australia</td>\n",
       "      <td>92.0</td>\n",
       "      <td>NaN</td>\n",
       "      <td>NaN</td>\n",
       "      <td>NaN</td>\n",
       "    </tr>\n",
       "    <tr>\n",
       "      <th>1</th>\n",
       "      <td>1</td>\n",
       "      <td>1000889</td>\n",
       "      <td>Australia</td>\n",
       "      <td>Pakistan</td>\n",
       "      <td>male</td>\n",
       "      <td>2017/01/15</td>\n",
       "      <td>2016/17</td>\n",
       "      <td>Pakistan in Australia ODI Series</td>\n",
       "      <td>2.0</td>\n",
       "      <td>Melbourne Cricket Ground</td>\n",
       "      <td>...</td>\n",
       "      <td>CB Gaffaney</td>\n",
       "      <td>P Wilson</td>\n",
       "      <td>SJ Nogajski</td>\n",
       "      <td>C Shamshuddin</td>\n",
       "      <td>JJ Crowe</td>\n",
       "      <td>Pakistan</td>\n",
       "      <td>NaN</td>\n",
       "      <td>6.0</td>\n",
       "      <td>NaN</td>\n",
       "      <td>NaN</td>\n",
       "    </tr>\n",
       "    <tr>\n",
       "      <th>2</th>\n",
       "      <td>2</td>\n",
       "      <td>1000891</td>\n",
       "      <td>Australia</td>\n",
       "      <td>Pakistan</td>\n",
       "      <td>male</td>\n",
       "      <td>2017/01/19</td>\n",
       "      <td>2016/17</td>\n",
       "      <td>Pakistan in Australia ODI Series</td>\n",
       "      <td>3.0</td>\n",
       "      <td>Western Australia Cricket Association Ground</td>\n",
       "      <td>...</td>\n",
       "      <td>SD Fry</td>\n",
       "      <td>C Shamshuddin</td>\n",
       "      <td>P Wilson</td>\n",
       "      <td>CB Gaffaney</td>\n",
       "      <td>JJ Crowe</td>\n",
       "      <td>Australia</td>\n",
       "      <td>NaN</td>\n",
       "      <td>7.0</td>\n",
       "      <td>NaN</td>\n",
       "      <td>NaN</td>\n",
       "    </tr>\n",
       "    <tr>\n",
       "      <th>3</th>\n",
       "      <td>3</td>\n",
       "      <td>1000893</td>\n",
       "      <td>Australia</td>\n",
       "      <td>Pakistan</td>\n",
       "      <td>male</td>\n",
       "      <td>2017/01/22</td>\n",
       "      <td>2016/17</td>\n",
       "      <td>Pakistan in Australia ODI Series</td>\n",
       "      <td>4.0</td>\n",
       "      <td>Sydney Cricket Ground</td>\n",
       "      <td>...</td>\n",
       "      <td>CB Gaffaney</td>\n",
       "      <td>MD Martell</td>\n",
       "      <td>P Wilson</td>\n",
       "      <td>C Shamshuddin</td>\n",
       "      <td>JJ Crowe</td>\n",
       "      <td>Australia</td>\n",
       "      <td>86.0</td>\n",
       "      <td>NaN</td>\n",
       "      <td>NaN</td>\n",
       "      <td>NaN</td>\n",
       "    </tr>\n",
       "    <tr>\n",
       "      <th>4</th>\n",
       "      <td>4</td>\n",
       "      <td>1000895</td>\n",
       "      <td>Australia</td>\n",
       "      <td>Pakistan</td>\n",
       "      <td>male</td>\n",
       "      <td>2017/01/26</td>\n",
       "      <td>2016/17</td>\n",
       "      <td>Pakistan in Australia ODI Series</td>\n",
       "      <td>5.0</td>\n",
       "      <td>Adelaide Oval</td>\n",
       "      <td>...</td>\n",
       "      <td>SD Fry</td>\n",
       "      <td>C Shamshuddin</td>\n",
       "      <td>SJ Nogajski</td>\n",
       "      <td>CB Gaffaney</td>\n",
       "      <td>JJ Crowe</td>\n",
       "      <td>Australia</td>\n",
       "      <td>57.0</td>\n",
       "      <td>NaN</td>\n",
       "      <td>NaN</td>\n",
       "      <td>NaN</td>\n",
       "    </tr>\n",
       "  </tbody>\n",
       "</table>\n",
       "<p>5 rows × 25 columns</p>\n",
       "</div>"
      ],
      "text/plain": [
       "   Unnamed: 0  Match_id      Team1     Team2 Gender        Date   Season  \\\n",
       "0           0   1000887  Australia  Pakistan   male  2017/01/13  2016/17   \n",
       "1           1   1000889  Australia  Pakistan   male  2017/01/15  2016/17   \n",
       "2           2   1000891  Australia  Pakistan   male  2017/01/19  2016/17   \n",
       "3           3   1000893  Australia  Pakistan   male  2017/01/22  2016/17   \n",
       "4           4   1000895  Australia  Pakistan   male  2017/01/26  2016/17   \n",
       "\n",
       "                 Series/Competition  Match_number  \\\n",
       "0  Pakistan in Australia ODI Series           1.0   \n",
       "1  Pakistan in Australia ODI Series           2.0   \n",
       "2  Pakistan in Australia ODI Series           3.0   \n",
       "3  Pakistan in Australia ODI Series           4.0   \n",
       "4  Pakistan in Australia ODI Series           5.0   \n",
       "\n",
       "                                          Venue  ...      Umpire1  \\\n",
       "0                      \"Brisbane Cricket Ground  ...   MD Martell   \n",
       "1                      Melbourne Cricket Ground  ...  CB Gaffaney   \n",
       "2  Western Australia Cricket Association Ground  ...       SD Fry   \n",
       "3                         Sydney Cricket Ground  ...  CB Gaffaney   \n",
       "4                                 Adelaide Oval  ...       SD Fry   \n",
       "\n",
       "         Umpire2 Reserve_umpire      Tv_umpire Match_referee     Winner  \\\n",
       "0  C Shamshuddin    SJ Nogajski    CB Gaffaney      JJ Crowe  Australia   \n",
       "1       P Wilson    SJ Nogajski  C Shamshuddin      JJ Crowe   Pakistan   \n",
       "2  C Shamshuddin       P Wilson    CB Gaffaney      JJ Crowe  Australia   \n",
       "3     MD Martell       P Wilson  C Shamshuddin      JJ Crowe  Australia   \n",
       "4  C Shamshuddin    SJ Nogajski    CB Gaffaney      JJ Crowe  Australia   \n",
       "\n",
       "  Winner_runs Winner_wickets Method Outcome  \n",
       "0        92.0            NaN    NaN     NaN  \n",
       "1         NaN            6.0    NaN     NaN  \n",
       "2         NaN            7.0    NaN     NaN  \n",
       "3        86.0            NaN    NaN     NaN  \n",
       "4        57.0            NaN    NaN     NaN  \n",
       "\n",
       "[5 rows x 25 columns]"
      ]
     },
     "execution_count": 2,
     "metadata": {},
     "output_type": "execute_result"
    }
   ],
   "source": [
    "import pandas as pd\n",
    "#Importing Pandas to handle database\n",
    "df2 = pd.read_csv (r'Match.csv')\n",
    "#df is the dataframe which is imported\n",
    "df2.head()\n",
    "#.head() shows the first 5 rows of the dataframe to look at the data variables and value types"
   ]
  },
  {
   "cell_type": "code",
   "execution_count": 89,
   "id": "2137526c",
   "metadata": {},
   "outputs": [
    {
     "data": {
      "text/plain": [
       "Australia                                                                202\n",
       "India                                                                    175\n",
       "England                                                                  172\n",
       "Bangladesh                                                               137\n",
       "South Africa                                                             135\n",
       "                                                 ...                        \n",
       "Thailand                                                                   1\n",
       "Suriname                                                                   1\n",
       "Rising Pune Supergiants                                                    1\n",
       "nunique                                                                   74\n",
       "unique values              [Australia, India, England, Bangladesh, South ...\n",
       "Length: 76, dtype: object"
      ]
     },
     "execution_count": 89,
     "metadata": {},
     "output_type": "execute_result"
    }
   ],
   "source": [
    "teams = pd.value_counts(df2[\"Team1\"])\n",
    "teams1 = pd.Series({'nunique': len(teams), 'unique values': teams.index.tolist()})\n",
    "teams.append(teams1)"
   ]
  },
  {
   "cell_type": "code",
   "execution_count": 4,
   "id": "ff1492d9",
   "metadata": {},
   "outputs": [
    {
     "data": {
      "text/plain": [
       "male                       1779\n",
       "female                      172\n",
       "nunique                       2\n",
       "unique values    [male, female]\n",
       "dtype: object"
      ]
     },
     "execution_count": 4,
     "metadata": {},
     "output_type": "execute_result"
    }
   ],
   "source": [
    "s = pd.value_counts(df2[\"Gender\"])\n",
    "s1 = pd.Series({'nunique': len(s), 'unique values': s.index.tolist()})\n",
    "s.append(s1)"
   ]
  },
  {
   "cell_type": "code",
   "execution_count": 5,
   "id": "02a092df",
   "metadata": {},
   "outputs": [
    {
     "data": {
      "text/plain": [
       "MS Dhoni                                                        46\n",
       "MEK Hussey                                                      37\n",
       "TM Dilshan                                                      35\n",
       "AD Mathews                                                      33\n",
       "DA Miller                                                       29\n",
       "                                       ...                        \n",
       "T Bharaj                                                         1\n",
       "O Olatunji                                                       1\n",
       "RM Farrell                                                       1\n",
       "nunique                                                        587\n",
       "unique values    [MS Dhoni, MEK Hussey, TM Dilshan, AD Mathews,...\n",
       "Length: 589, dtype: object"
      ]
     },
     "execution_count": 5,
     "metadata": {},
     "output_type": "execute_result"
    }
   ],
   "source": [
    "s = pd.value_counts(df1[\"Players_6\"])\n",
    "s1 = pd.Series({'nunique': len(s), 'unique values': s.index.tolist()})\n",
    "s.append(s1)"
   ]
  },
  {
   "cell_type": "code",
   "execution_count": 6,
   "id": "4e6aa950",
   "metadata": {},
   "outputs": [
    {
     "data": {
      "text/plain": [
       "12149"
      ]
     },
     "execution_count": 6,
     "metadata": {},
     "output_type": "execute_result"
    }
   ],
   "source": [
    "373 + 472 + 489 + 425 + 488 + 587 + 636 + 631 + 603 + 580 + 527 + 376 + 464 + 518 + 518 + 607 + 697 + 736 + 674 + 636 + 596 + 516"
   ]
  },
  {
   "cell_type": "code",
   "execution_count": 90,
   "id": "32613502",
   "metadata": {},
   "outputs": [],
   "source": [
    "sum = 0\n",
    "for i in range(9,74):\n",
    "    sum += teams[i]"
   ]
  },
  {
   "cell_type": "code",
   "execution_count": 91,
   "id": "fbae1886",
   "metadata": {},
   "outputs": [
    {
     "name": "stdout",
     "output_type": "stream",
     "text": [
      "670\n"
     ]
    }
   ],
   "source": [
    "print(sum)"
   ]
  },
  {
   "cell_type": "code",
   "execution_count": 92,
   "id": "444fdd96",
   "metadata": {},
   "outputs": [
    {
     "data": {
      "text/plain": [
       "pandas.core.series.Series"
      ]
     },
     "execution_count": 92,
     "metadata": {},
     "output_type": "execute_result"
    }
   ],
   "source": [
    "type(teams)"
   ]
  },
  {
   "cell_type": "code",
   "execution_count": 93,
   "id": "abfe2ee0",
   "metadata": {},
   "outputs": [],
   "source": [
    "import numpy as np\n",
    "teams1 = np.array(teams.values.tolist())\n",
    "teams2 = np.array(teams.index.tolist())"
   ]
  },
  {
   "cell_type": "code",
   "execution_count": 94,
   "id": "7afb0e3a",
   "metadata": {},
   "outputs": [],
   "source": [
    "sum = 0\n",
    "for i in range (9,len(teams1)):\n",
    "    sum += teams1[i]"
   ]
  },
  {
   "cell_type": "code",
   "execution_count": 95,
   "id": "6fba5f87",
   "metadata": {},
   "outputs": [],
   "source": [
    "teams1 = list(teams1)\n",
    "teams2 = list(teams2)"
   ]
  },
  {
   "cell_type": "code",
   "execution_count": 96,
   "id": "b3d4caa4",
   "metadata": {},
   "outputs": [],
   "source": [
    "del teams1[9:len(teams1)]"
   ]
  },
  {
   "cell_type": "code",
   "execution_count": 97,
   "id": "d1268e80",
   "metadata": {},
   "outputs": [],
   "source": [
    "teams1.append(sum)"
   ]
  },
  {
   "cell_type": "code",
   "execution_count": 98,
   "id": "9bf4ed01",
   "metadata": {},
   "outputs": [],
   "source": [
    "del teams2[9:len(teams2)]"
   ]
  },
  {
   "cell_type": "code",
   "execution_count": 99,
   "id": "01c021c3",
   "metadata": {},
   "outputs": [],
   "source": [
    "teams2.append(\"remaining 65 teams\")"
   ]
  },
  {
   "cell_type": "code",
   "execution_count": 100,
   "id": "a8ec50bf",
   "metadata": {},
   "outputs": [
    {
     "name": "stdout",
     "output_type": "stream",
     "text": [
      "[202, 175, 172, 137, 135, 135, 130, 109, 86, 670]\n",
      "['Australia', 'India', 'England', 'Bangladesh', 'South Africa', 'New Zealand', 'Sri Lanka', 'West Indies', 'Pakistan', 'remaining 65 teams']\n"
     ]
    }
   ],
   "source": [
    "print(teams1)\n",
    "print(teams2)"
   ]
  },
  {
   "cell_type": "code",
   "execution_count": 101,
   "id": "c674ad69",
   "metadata": {},
   "outputs": [
    {
     "data": {
      "text/plain": [
       "<BarContainer object of 10 artists>"
      ]
     },
     "execution_count": 101,
     "metadata": {},
     "output_type": "execute_result"
    },
    {
     "data": {
      "image/png": "[encoded data removed]",
      "text/plain": [
       "<Figure size 1080x720 with 1 Axes>"
      ]
     },
     "metadata": {
      "needs_background": "light"
     },
     "output_type": "display_data"
    }
   ],
   "source": [
    "import matplotlib.pyplot as plt\n",
    "f = plt.figure()\n",
    "f.set_figwidth(15)\n",
    "f.set_figheight(10)\n",
    "plt.bar(teams2, teams1, width=0.5)"
   ]
  },
  {
   "cell_type": "code",
   "execution_count": null,
   "id": "46d1c024",
   "metadata": {},
   "outputs": [],
   "source": []
  }
 ],
 "metadata": {
  "kernelspec": {
   "display_name": "Python 3",
   "language": "python",
   "name": "python3"
  },
  "language_info": {
   "codemirror_mode": {
    "name": "ipython",
    "version": 3
   },
   "file_extension": ".py",
   "mimetype": "text/x-python",
   "name": "python",
   "nbconvert_exporter": "python",
   "pygments_lexer": "ipython3",
   "version": "3.8.2"
  }
 },
 "nbformat": 4,
 "nbformat_minor": 5
}
